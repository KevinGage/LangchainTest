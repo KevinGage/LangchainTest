{
 "cells": [
  {
   "cell_type": "markdown",
   "metadata": {},
   "source": [
    "# Use Langchain to query a localai model"
   ]
  },
  {
   "cell_type": "markdown",
   "metadata": {},
   "source": [
    "## Install the required packages to the python environment (Tagged to 0.28.1 because openai release version 1 yesterday and broke langchain.  Langchain pull request pending to resolve)"
   ]
  },
  {
   "cell_type": "code",
   "execution_count": 19,
   "metadata": {},
   "outputs": [
    {
     "name": "stdout",
     "output_type": "stream",
     "text": [
      "Requirement already satisfied: python-dotenv in c:\\users\\kgage\\source\\repos\\personal\\langchaintest\\.venv\\lib\\site-packages (1.0.0)\n",
      "Note: you may need to restart the kernel to use updated packages.\n",
      "Requirement already satisfied: requests in c:\\users\\kgage\\source\\repos\\personal\\langchaintest\\.venv\\lib\\site-packages (2.31.0)\n",
      "Requirement already satisfied: charset-normalizer<4,>=2 in c:\\users\\kgage\\source\\repos\\personal\\langchaintest\\.venv\\lib\\site-packages (from requests) (3.3.2)\n",
      "Requirement already satisfied: idna<4,>=2.5 in c:\\users\\kgage\\source\\repos\\personal\\langchaintest\\.venv\\lib\\site-packages (from requests) (3.4)\n",
      "Requirement already satisfied: urllib3<3,>=1.21.1 in c:\\users\\kgage\\source\\repos\\personal\\langchaintest\\.venv\\lib\\site-packages (from requests) (2.0.7)\n",
      "Requirement already satisfied: certifi>=2017.4.17 in c:\\users\\kgage\\source\\repos\\personal\\langchaintest\\.venv\\lib\\site-packages (from requests) (2023.7.22)\n",
      "Note: you may need to restart the kernel to use updated packages.\n",
      "Requirement already satisfied: langchain in c:\\users\\kgage\\source\\repos\\personal\\langchaintest\\.venv\\lib\\site-packages (0.0.331)\n",
      "Requirement already satisfied: PyYAML>=5.3 in c:\\users\\kgage\\source\\repos\\personal\\langchaintest\\.venv\\lib\\site-packages (from langchain) (6.0.1)\n",
      "Requirement already satisfied: SQLAlchemy<3,>=1.4 in c:\\users\\kgage\\source\\repos\\personal\\langchaintest\\.venv\\lib\\site-packages (from langchain) (2.0.23)\n",
      "Requirement already satisfied: aiohttp<4.0.0,>=3.8.3 in c:\\users\\kgage\\source\\repos\\personal\\langchaintest\\.venv\\lib\\site-packages (from langchain) (3.8.6)\n",
      "Requirement already satisfied: anyio<4.0 in c:\\users\\kgage\\source\\repos\\personal\\langchaintest\\.venv\\lib\\site-packages (from langchain) (3.7.1)\n",
      "Requirement already satisfied: dataclasses-json<0.7,>=0.5.7 in c:\\users\\kgage\\source\\repos\\personal\\langchaintest\\.venv\\lib\\site-packages (from langchain) (0.6.1)\n",
      "Requirement already satisfied: jsonpatch<2.0,>=1.33 in c:\\users\\kgage\\source\\repos\\personal\\langchaintest\\.venv\\lib\\site-packages (from langchain) (1.33)\n",
      "Requirement already satisfied: langsmith<0.1.0,>=0.0.52 in c:\\users\\kgage\\source\\repos\\personal\\langchaintest\\.venv\\lib\\site-packages (from langchain) (0.0.60)\n",
      "Requirement already satisfied: numpy<2,>=1 in c:\\users\\kgage\\source\\repos\\personal\\langchaintest\\.venv\\lib\\site-packages (from langchain) (1.26.1)\n",
      "Requirement already satisfied: pydantic<3,>=1 in c:\\users\\kgage\\source\\repos\\personal\\langchaintest\\.venv\\lib\\site-packages (from langchain) (2.4.2)\n",
      "Requirement already satisfied: requests<3,>=2 in c:\\users\\kgage\\source\\repos\\personal\\langchaintest\\.venv\\lib\\site-packages (from langchain) (2.31.0)\n",
      "Requirement already satisfied: tenacity<9.0.0,>=8.1.0 in c:\\users\\kgage\\source\\repos\\personal\\langchaintest\\.venv\\lib\\site-packages (from langchain) (8.2.3)\n",
      "Requirement already satisfied: attrs>=17.3.0 in c:\\users\\kgage\\source\\repos\\personal\\langchaintest\\.venv\\lib\\site-packages (from aiohttp<4.0.0,>=3.8.3->langchain) (23.1.0)\n",
      "Requirement already satisfied: charset-normalizer<4.0,>=2.0 in c:\\users\\kgage\\source\\repos\\personal\\langchaintest\\.venv\\lib\\site-packages (from aiohttp<4.0.0,>=3.8.3->langchain) (3.3.2)\n",
      "Requirement already satisfied: multidict<7.0,>=4.5 in c:\\users\\kgage\\source\\repos\\personal\\langchaintest\\.venv\\lib\\site-packages (from aiohttp<4.0.0,>=3.8.3->langchain) (6.0.4)\n",
      "Requirement already satisfied: async-timeout<5.0,>=4.0.0a3 in c:\\users\\kgage\\source\\repos\\personal\\langchaintest\\.venv\\lib\\site-packages (from aiohttp<4.0.0,>=3.8.3->langchain) (4.0.3)\n",
      "Requirement already satisfied: yarl<2.0,>=1.0 in c:\\users\\kgage\\source\\repos\\personal\\langchaintest\\.venv\\lib\\site-packages (from aiohttp<4.0.0,>=3.8.3->langchain) (1.9.2)\n",
      "Requirement already satisfied: frozenlist>=1.1.1 in c:\\users\\kgage\\source\\repos\\personal\\langchaintest\\.venv\\lib\\site-packages (from aiohttp<4.0.0,>=3.8.3->langchain) (1.4.0)\n",
      "Requirement already satisfied: aiosignal>=1.1.2 in c:\\users\\kgage\\source\\repos\\personal\\langchaintest\\.venv\\lib\\site-packages (from aiohttp<4.0.0,>=3.8.3->langchain) (1.3.1)\n",
      "Requirement already satisfied: idna>=2.8 in c:\\users\\kgage\\source\\repos\\personal\\langchaintest\\.venv\\lib\\site-packages (from anyio<4.0->langchain) (3.4)\n",
      "Requirement already satisfied: sniffio>=1.1 in c:\\users\\kgage\\source\\repos\\personal\\langchaintest\\.venv\\lib\\site-packages (from anyio<4.0->langchain) (1.3.0)\n",
      "Requirement already satisfied: marshmallow<4.0.0,>=3.18.0 in c:\\users\\kgage\\source\\repos\\personal\\langchaintest\\.venv\\lib\\site-packages (from dataclasses-json<0.7,>=0.5.7->langchain) (3.20.1)\n",
      "Requirement already satisfied: typing-inspect<1,>=0.4.0 in c:\\users\\kgage\\source\\repos\\personal\\langchaintest\\.venv\\lib\\site-packages (from dataclasses-json<0.7,>=0.5.7->langchain) (0.9.0)\n",
      "Requirement already satisfied: jsonpointer>=1.9 in c:\\users\\kgage\\source\\repos\\personal\\langchaintest\\.venv\\lib\\site-packages (from jsonpatch<2.0,>=1.33->langchain) (2.4)\n",
      "Requirement already satisfied: annotated-types>=0.4.0 in c:\\users\\kgage\\source\\repos\\personal\\langchaintest\\.venv\\lib\\site-packages (from pydantic<3,>=1->langchain) (0.6.0)\n",
      "Requirement already satisfied: pydantic-core==2.10.1 in c:\\users\\kgage\\source\\repos\\personal\\langchaintest\\.venv\\lib\\site-packages (from pydantic<3,>=1->langchain) (2.10.1)\n",
      "Requirement already satisfied: typing-extensions>=4.6.1 in c:\\users\\kgage\\source\\repos\\personal\\langchaintest\\.venv\\lib\\site-packages (from pydantic<3,>=1->langchain) (4.8.0)\n",
      "Requirement already satisfied: urllib3<3,>=1.21.1 in c:\\users\\kgage\\source\\repos\\personal\\langchaintest\\.venv\\lib\\site-packages (from requests<3,>=2->langchain) (2.0.7)\n",
      "Requirement already satisfied: certifi>=2017.4.17 in c:\\users\\kgage\\source\\repos\\personal\\langchaintest\\.venv\\lib\\site-packages (from requests<3,>=2->langchain) (2023.7.22)\n",
      "Requirement already satisfied: greenlet!=0.4.17 in c:\\users\\kgage\\source\\repos\\personal\\langchaintest\\.venv\\lib\\site-packages (from SQLAlchemy<3,>=1.4->langchain) (3.0.1)\n",
      "Requirement already satisfied: packaging>=17.0 in c:\\users\\kgage\\source\\repos\\personal\\langchaintest\\.venv\\lib\\site-packages (from marshmallow<4.0.0,>=3.18.0->dataclasses-json<0.7,>=0.5.7->langchain) (23.2)\n",
      "Requirement already satisfied: mypy-extensions>=0.3.0 in c:\\users\\kgage\\source\\repos\\personal\\langchaintest\\.venv\\lib\\site-packages (from typing-inspect<1,>=0.4.0->dataclasses-json<0.7,>=0.5.7->langchain) (1.0.0)\n",
      "Note: you may need to restart the kernel to use updated packages.\n",
      "Requirement already satisfied: pip in c:\\users\\kgage\\source\\repos\\personal\\langchaintest\\.venv\\lib\\site-packages (23.3.1)\n",
      "Collecting install\n",
      "  Downloading install-1.3.5-py3-none-any.whl (3.2 kB)\n",
      "Collecting pyodbc\n",
      "  Downloading pyodbc-5.0.1-cp311-cp311-win_amd64.whl.metadata (2.8 kB)\n",
      "Downloading pyodbc-5.0.1-cp311-cp311-win_amd64.whl (68 kB)\n",
      "   ---------------------------------------- 0.0/68.7 kB ? eta -:--:--\n",
      "   ---------------------------------------- 68.7/68.7 kB 3.7 MB/s eta 0:00:00\n",
      "Installing collected packages: pyodbc, install\n",
      "Successfully installed install-1.3.5 pyodbc-5.0.1\n",
      "Note: you may need to restart the kernel to use updated packages.\n",
      "Requirement already satisfied: openai==0.28.1 in c:\\users\\kgage\\source\\repos\\personal\\langchaintest\\.venv\\lib\\site-packages (0.28.1)\n",
      "Requirement already satisfied: requests>=2.20 in c:\\users\\kgage\\source\\repos\\personal\\langchaintest\\.venv\\lib\\site-packages (from openai==0.28.1) (2.31.0)\n",
      "Requirement already satisfied: tqdm in c:\\users\\kgage\\source\\repos\\personal\\langchaintest\\.venv\\lib\\site-packages (from openai==0.28.1) (4.66.1)\n",
      "Requirement already satisfied: aiohttp in c:\\users\\kgage\\source\\repos\\personal\\langchaintest\\.venv\\lib\\site-packages (from openai==0.28.1) (3.8.6)\n",
      "Requirement already satisfied: charset-normalizer<4,>=2 in c:\\users\\kgage\\source\\repos\\personal\\langchaintest\\.venv\\lib\\site-packages (from requests>=2.20->openai==0.28.1) (3.3.2)\n",
      "Requirement already satisfied: idna<4,>=2.5 in c:\\users\\kgage\\source\\repos\\personal\\langchaintest\\.venv\\lib\\site-packages (from requests>=2.20->openai==0.28.1) (3.4)\n",
      "Requirement already satisfied: urllib3<3,>=1.21.1 in c:\\users\\kgage\\source\\repos\\personal\\langchaintest\\.venv\\lib\\site-packages (from requests>=2.20->openai==0.28.1) (2.0.7)\n",
      "Requirement already satisfied: certifi>=2017.4.17 in c:\\users\\kgage\\source\\repos\\personal\\langchaintest\\.venv\\lib\\site-packages (from requests>=2.20->openai==0.28.1) (2023.7.22)\n",
      "Requirement already satisfied: attrs>=17.3.0 in c:\\users\\kgage\\source\\repos\\personal\\langchaintest\\.venv\\lib\\site-packages (from aiohttp->openai==0.28.1) (23.1.0)\n",
      "Requirement already satisfied: multidict<7.0,>=4.5 in c:\\users\\kgage\\source\\repos\\personal\\langchaintest\\.venv\\lib\\site-packages (from aiohttp->openai==0.28.1) (6.0.4)\n",
      "Requirement already satisfied: async-timeout<5.0,>=4.0.0a3 in c:\\users\\kgage\\source\\repos\\personal\\langchaintest\\.venv\\lib\\site-packages (from aiohttp->openai==0.28.1) (4.0.3)\n",
      "Requirement already satisfied: yarl<2.0,>=1.0 in c:\\users\\kgage\\source\\repos\\personal\\langchaintest\\.venv\\lib\\site-packages (from aiohttp->openai==0.28.1) (1.9.2)\n",
      "Requirement already satisfied: frozenlist>=1.1.1 in c:\\users\\kgage\\source\\repos\\personal\\langchaintest\\.venv\\lib\\site-packages (from aiohttp->openai==0.28.1) (1.4.0)\n",
      "Requirement already satisfied: aiosignal>=1.1.2 in c:\\users\\kgage\\source\\repos\\personal\\langchaintest\\.venv\\lib\\site-packages (from aiohttp->openai==0.28.1) (1.3.1)\n",
      "Requirement already satisfied: colorama in c:\\users\\kgage\\source\\repos\\personal\\langchaintest\\.venv\\lib\\site-packages (from tqdm->openai==0.28.1) (0.4.6)\n",
      "Note: you may need to restart the kernel to use updated packages.\n"
     ]
    }
   ],
   "source": [
    "%pip install python-dotenv\n",
    "%pip install requests\n",
    "%pip install langchain\n",
    "%pip install pip install pyodbc\n",
    "%pip install --upgrade openai==0.28.1"
   ]
  },
  {
   "cell_type": "markdown",
   "metadata": {},
   "source": [
    "### Load Environment Variables"
   ]
  },
  {
   "cell_type": "code",
   "execution_count": 1,
   "metadata": {},
   "outputs": [
    {
     "name": "stdout",
     "output_type": "stream",
     "text": [
      "None\n"
     ]
    }
   ],
   "source": [
    "import os\n",
    "from dotenv import load_dotenv\n",
    "\n",
    "load_dotenv()  # take environment variables from .env.\n",
    "OPENAI_API_BASE = os.getenv('OPENAI_API_BASE') # This will tell the openai library where to send requests\n",
    "print(OPENAI_API_BASE)"
   ]
  },
  {
   "cell_type": "markdown",
   "metadata": {},
   "source": [
    "## List available local models"
   ]
  },
  {
   "cell_type": "code",
   "execution_count": null,
   "metadata": {},
   "outputs": [
    {
     "name": "stdout",
     "output_type": "stream",
     "text": [
      "{'object': 'list', 'data': [{'id': 'gpt4all-j', 'object': 'model'}, {'id': 'ggml-gpt4all-j', 'object': 'model'}]}\n"
     ]
    }
   ],
   "source": [
    "import requests\n",
    "\n",
    "response = requests.get(f'{OPENAI_API_BASE}/models')\n",
    "print(response.json())"
   ]
  },
  {
   "cell_type": "markdown",
   "metadata": {},
   "source": [
    "## Connect Langchain to localai instance using the desired model"
   ]
  },
  {
   "cell_type": "code",
   "execution_count": 5,
   "metadata": {},
   "outputs": [
    {
     "data": {
      "text/plain": [
       "'\\n\\nGood morning\\n\\nGood morning! How are you?'"
      ]
     },
     "execution_count": 5,
     "metadata": {},
     "output_type": "execute_result"
    }
   ],
   "source": [
    "from langchain.llms import OpenAI\n",
    "\n",
    "# for local\n",
    "llm = OpenAI(model_name='gpt4all-j')\n",
    "llm(\"Are you working?\")\n",
    "\n",
    "# for chatgpt\n",
    "# from langchain.chat_models import ChatOpenAI\n",
    "# llm = OpenAI()\n",
    "# chat_model = ChatOpenAI()\n",
    "\n",
    "# Answer question\n",
    "# llm.predict(\"hi!\")\n",
    "\n",
    "# Chat\n",
    "# chat_model.predict(\"hi!\")\n"
   ]
  },
  {
   "cell_type": "markdown",
   "metadata": {},
   "source": [
    "## Create a database for the AI to query\n",
    "\n",
    "First get a local database running with docker\n",
    "```\n",
    "docker run -e \"ACCEPT_EULA=Y\" -e \"MSSQL_SA_PASSWORD=Password123\" -p 1433:1433 -d mcr.microsoft.com/mssql/server:2022-latest\n",
    "```\n",
    "\n",
    "Next create connect to SQL and import or create a database\n",
    "\n",
    "Create a READ ONLY user for connecting to the database.  This is important because it's possible the AI could decide to do insert or delete statements.  We don't want that.\n",
    "\n",
    "Here is the example SQL database for this test\n",
    "```\n",
    "CREATE DATABASE TestDb\n",
    "\n",
    "CREATE TABLE People (\n",
    "    ID INT PRIMARY KEY,\n",
    "    FirstName NVARCHAR(50),\n",
    "    LastName NVARCHAR(50),\n",
    "    Age INT\n",
    ")\n",
    "\n",
    "INSERT INTO People (ID, FirstName, LastName, Age)\n",
    "VALUES (1, 'John', 'Doe', 30)\n",
    "\n",
    "INSERT INTO People (ID, FirstName, LastName, Age)\n",
    "VALUES (2, 'Johny', 'Does', 60)\n",
    "\n",
    "INSERT INTO People (ID, FirstName, LastName, Age)\n",
    "VALUES (3, 'Jane', 'Doe', 20)\n",
    "```"
   ]
  },
  {
   "cell_type": "markdown",
   "metadata": {},
   "source": [
    "## Connect to the database\n",
    "use sql_database toolkit https://python.langchain.com/docs/integrations/toolkits/sql_database"
   ]
  },
  {
   "cell_type": "code",
   "execution_count": 6,
   "metadata": {},
   "outputs": [],
   "source": [
    "from langchain.agents import create_sql_agent\n",
    "from langchain.agents.agent_toolkits import SQLDatabaseToolkit\n",
    "from langchain.sql_database import SQLDatabase\n",
    "from langchain.agents import AgentExecutor\n",
    "from langchain.agents.agent_types import AgentType\n",
    "\n",
    "server = '127.0.0.1'\n",
    "database = 'TestDb'\n",
    "username = 'sa'\n",
    "password = 'Password123'\n",
    "driver = 'ODBC Driver 17 for SQL Server'\n",
    "\n",
    "conn_str = f\"mssql+pyodbc://{username}:{password}@{server}/{database}?driver={driver}\"\n",
    "\n",
    "# Only include the People table\n",
    "db = SQLDatabase.from_uri(conn_str, include_tables=['People'])\n",
    "\n",
    "toolkit = SQLDatabaseToolkit(db=db, llm=llm)\n",
    "\n",
    "agent_executor = create_sql_agent(llm=llm, toolkit=toolkit, verbose=True, agent_type=AgentType.ZERO_SHOT_REACT_DESCRIPTION, handle_parsing_errors=True)"
   ]
  },
  {
   "cell_type": "markdown",
   "metadata": {},
   "source": [
    "## Query the database using the agent_executor"
   ]
  },
  {
   "cell_type": "code",
   "execution_count": 8,
   "metadata": {},
   "outputs": [
    {
     "name": "stdout",
     "output_type": "stream",
     "text": [
      "\n",
      "\n",
      "\u001b[1m> Entering new AgentExecutor chain...\u001b[0m\n",
      "\u001b[32;1m\u001b[1;3mAction: sql_db_list_tables\n",
      "Action Input: \u001b[0m\n",
      "Observation: \u001b[38;5;200m\u001b[1;3mPeople\u001b[0m\n",
      "Thought:\u001b[32;1m\u001b[1;3m I should query the schema of the People table to see what fields are available.\n",
      "Action: sql_db_schema\n",
      "Action Input: People\u001b[0m\n",
      "Observation: \u001b[33;1m\u001b[1;3m\n",
      "CREATE TABLE [People] (\n",
      "\t[ID] INTEGER NOT NULL, \n",
      "\t[FirstName] NVARCHAR(50) COLLATE SQL_Latin1_General_CP1_CI_AS NULL, \n",
      "\t[LastName] NVARCHAR(50) COLLATE SQL_Latin1_General_CP1_CI_AS NULL, \n",
      "\t[Age] INTEGER NULL, \n",
      "\tCONSTRAINT [PK__People__3214EC273DC4372C] PRIMARY KEY ([ID])\n",
      ")\n",
      "\n",
      "/*\n",
      "3 rows from People table:\n",
      "ID\tFirstName\tLastName\tAge\n",
      "1\tJohn\tDoe\t30\n",
      "2\tJohny\tDoes\t60\n",
      "3\tJane\tDoe\t20\n",
      "*/\u001b[0m\n",
      "Thought:\u001b[32;1m\u001b[1;3m The relevant field here is Age, so I should query the database for the oldest person by Age.\n",
      "Action: sql_db_query\n",
      "Action Input: SELECT TOP 10 FirstName, LastName, Age FROM People ORDER BY Age DESC\u001b[0m\n",
      "Observation: \u001b[36;1m\u001b[1;3m[('Johny', 'Does', 60), ('John', 'Doe', 30), ('Jane', 'Doe', 20)]\u001b[0m\n",
      "Thought:\u001b[32;1m\u001b[1;3m I now know the final answer. \n",
      "Final Answer: The oldest person in the database is Johny Does, aged 60.\u001b[0m\n",
      "\n",
      "\u001b[1m> Finished chain.\u001b[0m\n"
     ]
    },
    {
     "data": {
      "text/plain": [
       "'The oldest person in the database is Johny Does, aged 60.'"
      ]
     },
     "execution_count": 8,
     "metadata": {},
     "output_type": "execute_result"
    }
   ],
   "source": [
    "agent_executor.run(\"Who is the oldest person in the database?\")"
   ]
  }
 ],
 "metadata": {
  "kernelspec": {
   "display_name": ".venv",
   "language": "python",
   "name": "python3"
  },
  "language_info": {
   "codemirror_mode": {
    "name": "ipython",
    "version": 3
   },
   "file_extension": ".py",
   "mimetype": "text/x-python",
   "name": "python",
   "nbconvert_exporter": "python",
   "pygments_lexer": "ipython3",
   "version": "3.11.2"
  }
 },
 "nbformat": 4,
 "nbformat_minor": 2
}
