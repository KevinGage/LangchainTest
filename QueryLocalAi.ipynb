{
 "cells": [
  {
   "cell_type": "markdown",
   "metadata": {},
   "source": [
    "# LocalAI Test"
   ]
  },
  {
   "cell_type": "markdown",
   "metadata": {},
   "source": [
    "## Query LocalAI with simple query and print response"
   ]
  },
  {
   "cell_type": "markdown",
   "metadata": {},
   "source": [
    "### Install the required packages to the python environment\n"
   ]
  },
  {
   "cell_type": "code",
   "execution_count": 1,
   "metadata": {},
   "outputs": [
    {
     "name": "stdout",
     "output_type": "stream",
     "text": [
      "Requirement already satisfied: python-dotenv in c:\\users\\kgage\\source\\repos\\personal\\langchaintest\\.venv\\lib\\site-packages (1.0.0)\n",
      "Note: you may need to restart the kernel to use updated packages.\n",
      "Requirement already satisfied: requests in c:\\users\\kgage\\source\\repos\\personal\\langchaintest\\.venv\\lib\\site-packages (2.31.0)\n",
      "Requirement already satisfied: charset-normalizer<4,>=2 in c:\\users\\kgage\\source\\repos\\personal\\langchaintest\\.venv\\lib\\site-packages (from requests) (3.3.2)\n",
      "Requirement already satisfied: idna<4,>=2.5 in c:\\users\\kgage\\source\\repos\\personal\\langchaintest\\.venv\\lib\\site-packages (from requests) (3.4)\n",
      "Requirement already satisfied: urllib3<3,>=1.21.1 in c:\\users\\kgage\\source\\repos\\personal\\langchaintest\\.venv\\lib\\site-packages (from requests) (2.0.7)\n",
      "Requirement already satisfied: certifi>=2017.4.17 in c:\\users\\kgage\\source\\repos\\personal\\langchaintest\\.venv\\lib\\site-packages (from requests) (2023.7.22)\n",
      "Note: you may need to restart the kernel to use updated packages.\n"
     ]
    }
   ],
   "source": [
    "%pip install python-dotenv\n",
    "%pip install requests"
   ]
  },
  {
   "cell_type": "markdown",
   "metadata": {},
   "source": [
    "### Load Environment Variables"
   ]
  },
  {
   "cell_type": "code",
   "execution_count": 11,
   "metadata": {},
   "outputs": [
    {
     "name": "stdout",
     "output_type": "stream",
     "text": [
      "http://localhost:8080/v1\n"
     ]
    }
   ],
   "source": [
    "import os\n",
    "from dotenv import load_dotenv\n",
    "\n",
    "load_dotenv()  # take environment variables from .env.\n",
    "OPENAI_API_BASE = os.getenv('OPENAI_API_BASE')\n",
    "print(OPENAI_API_BASE)"
   ]
  },
  {
   "cell_type": "markdown",
   "metadata": {},
   "source": [
    "### Make a simple query to LocalAI to list available models"
   ]
  },
  {
   "cell_type": "code",
   "execution_count": 3,
   "metadata": {},
   "outputs": [
    {
     "name": "stdout",
     "output_type": "stream",
     "text": [
      "{'object': 'list', 'data': [{'id': 'open-llama-7b-q4_0.bin', 'object': 'model'}]}\n"
     ]
    }
   ],
   "source": [
    "import requests\n",
    "\n",
    "response = requests.get(f'{OPENAI_API_BASE}/models')\n",
    "print(response.json())\n"
   ]
  },
  {
   "cell_type": "markdown",
   "metadata": {},
   "source": [
    "### Ask localAI a simple question using an available model"
   ]
  },
  {
   "cell_type": "code",
   "execution_count": 9,
   "metadata": {},
   "outputs": [
    {
     "name": "stdout",
     "output_type": "stream",
     "text": [
      "{'object': 'chat.completion', 'model': 'open-llama-7b-q4_0.bin', 'choices': [{'index': 0, 'finish_reason': 'stop', 'message': {'role': 'assistant', 'content': ' I hope you are doing well.\\nI am writing to you today because I have a question that I would like to ask you.\\nI am a student of the University of California, Berkeley. I am studying in the Department of Mechanical Engineering.\\nI am currently working on a project that is related to the design of a new type of aircraft.\\nThe purpose of this project is to design an aircraft that can fly at high altitudes and low temperatures.\\nThe aircraft will be able to fly at altitudes of up to 10,000 meters and temperatures of up to -50 degrees Celsius.\\nI am currently working with a team of engineers from the University of California, Berkeley, who are working on this project.\\nWe have been working on this project for about two years now.\\nThe aircraft that we are designing is called the “Aircraft Design”.\\nIt is a new type aircraft that has been designed to fly at high altitudes and low temperatures.\\nThe design of the aircraft is based on the principles of aerodynamics, thermodynamics, and fluid dynamics.\\nWe have developed a new type of engine that can be used in this aircraft.\\nThis engine is called “Aero-Thermodynamic Engine”.\\nIt uses a combination of heat transfer and thermodynamic principles to generate thrust.\\nThe engine is designed to operate at altitudes between 10,000 meters and -50 degrees Celsius.\\nWe have also developed a new type propulsion system that can be used in this aircraft.\\nThis propulsion system uses a combination to generate thrust.\\nIt uses heat transfer and thermodynamic principles to generate thrust.\\nThe propulsion system is designed for altitudes between 10,000 meters and -50 degrees Celsius.\\nWe have also developed a new type of fuel that can be used in this aircraft.\\nThis fuel is called “Aero-Fuel”.\\nIt uses heat transfer and thermodynamic principles to generate energy.\\nThe fuel is designed for altitudes between 10,000 meters and -50 degrees Celsius.\\nWe have also developed a new type of propulsion system that can be used in this aircraft.\\nThis propulsion system uses heat transfer and thermodynamic principles to generate thrust.\\nThe propulsion system is designed to operate at altitudes between 10,000 meters and -50 degrees Celsius.\\nWe'}}], 'usage': {'prompt_tokens': 0, 'completion_tokens': 0, 'total_tokens': 0}}\n"
     ]
    }
   ],
   "source": [
    "import json\n",
    "\n",
    "data = {\n",
    "    \"model\": \"open-llama-7b-q4_0.bin\",\n",
    "    \"messages\": [{\"role\": \"user\", \"content\": \"How are you?\"}],\n",
    "    \"temperature\": 0.9\n",
    "}\n",
    "\n",
    "headers = {\n",
    "    'Content-Type': 'application/json'\n",
    "}\n",
    "\n",
    "response = requests.post(f'{OPENAI_API_BASE}/chat/completions', headers=headers, data=json.dumps(data))\n",
    "\n",
    "print(response.json())"
   ]
  }
 ],
 "metadata": {
  "kernelspec": {
   "display_name": ".venv",
   "language": "python",
   "name": "python3"
  },
  "language_info": {
   "codemirror_mode": {
    "name": "ipython",
    "version": 3
   },
   "file_extension": ".py",
   "mimetype": "text/x-python",
   "name": "python",
   "nbconvert_exporter": "python",
   "pygments_lexer": "ipython3",
   "version": "3.11.2"
  }
 },
 "nbformat": 4,
 "nbformat_minor": 2
}
